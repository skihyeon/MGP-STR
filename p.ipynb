{
 "cells": [
  {
   "cell_type": "code",
   "execution_count": 1,
   "metadata": {},
   "outputs": [],
   "source": [
    "import pickle\n",
    "\n",
    "def read_and_pickle_characters(input_file, output_file):\n",
    "    with open(input_file, 'r', encoding='utf-8') as file:\n",
    "        characters = [line.strip() for line in file if line.strip()]\n",
    "\n",
    "    with open(output_file, 'wb') as pkl_file:\n",
    "        pickle.dump(characters, pkl_file)\n",
    "\n",
    "# 파일 경로를 지정하세요.\n",
    "input_path = 'korean_dict.txt'\n",
    "output_path = 'korean_dict.pkl'\n",
    "\n",
    "# 함수를 호출하여 txt 파일을 읽고 pickle 파일로 저장합니다.\n",
    "read_and_pickle_characters(input_path, output_path)\n"
   ]
  },
  {
   "cell_type": "code",
   "execution_count": 4,
   "metadata": {},
   "outputs": [
    {
     "name": "stdout",
     "output_type": "stream",
     "text": [
      "3687\n"
     ]
    }
   ],
   "source": [
    "with open('korean_dict.pkl', 'rb') as pkl_file:\n",
    "    characters = pickle.load(pkl_file)\n",
    "\n",
    "print(len(characters))"
   ]
  },
  {
   "cell_type": "code",
   "execution_count": 7,
   "metadata": {},
   "outputs": [
    {
     "name": "stdout",
     "output_type": "stream",
     "text": [
      "1797\n"
     ]
    }
   ],
   "source": [
    "with open('Synthdata_korean_label.pickle', 'rb') as pkl_file:\n",
    "    characters = pickle.load(pkl_file)\n",
    "\n",
    "print(len(characters))"
   ]
  },
  {
   "cell_type": "code",
   "execution_count": 8,
   "metadata": {},
   "outputs": [
    {
     "ename": "Error",
     "evalue": "C:/Users/ys/Desktop/sgh/MGP-STR/data_lmdb/train/lmdb/data.mdb: ������ ��θ� ã�� �� �����ϴ�.\r\n",
     "output_type": "error",
     "traceback": [
      "\u001b[1;31m---------------------------------------------------------------------------\u001b[0m",
      "\u001b[1;31mError\u001b[0m                                     Traceback (most recent call last)",
      "Cell \u001b[1;32mIn[8], line 4\u001b[0m\n\u001b[0;32m      1\u001b[0m \u001b[38;5;28;01mimport\u001b[39;00m \u001b[38;5;21;01mlmdb\u001b[39;00m\n\u001b[0;32m      3\u001b[0m \u001b[38;5;66;03m# LMDB 파일 열기\u001b[39;00m\n\u001b[1;32m----> 4\u001b[0m env \u001b[38;5;241m=\u001b[39m \u001b[43mlmdb\u001b[49m\u001b[38;5;241;43m.\u001b[39;49m\u001b[43mopen\u001b[49m\u001b[43m(\u001b[49m\u001b[38;5;124;43m'\u001b[39;49m\u001b[38;5;124;43mC:/Users/ys/Desktop/sgh/MGP-STR/data_lmdb/train/lmdb/data.mdb\u001b[39;49m\u001b[38;5;124;43m'\u001b[39;49m\u001b[43m,\u001b[49m\u001b[43m \u001b[49m\u001b[43mreadonly\u001b[49m\u001b[38;5;241;43m=\u001b[39;49m\u001b[38;5;28;43;01mTrue\u001b[39;49;00m\u001b[43m)\u001b[49m\n\u001b[0;32m      6\u001b[0m \u001b[38;5;66;03m# 데이터베이스에서 데이터 읽기\u001b[39;00m\n\u001b[0;32m      7\u001b[0m \u001b[38;5;28;01mwith\u001b[39;00m env\u001b[38;5;241m.\u001b[39mbegin() \u001b[38;5;28;01mas\u001b[39;00m txn:\n",
      "\u001b[1;31mError\u001b[0m: C:/Users/ys/Desktop/sgh/MGP-STR/data_lmdb/train/lmdb/data.mdb: ������ ��θ� ã�� �� �����ϴ�.\r\n"
     ]
    }
   ],
   "source": [
    "import lmdb\n",
    "\n",
    "# LMDB 파일 열기\n",
    "env = lmdb.open('C:\\\\Users\\\\ys\\\\Desktop\\\\sgh\\\\MGP-STR\\\\data_lmdb\\\\train\\\\lmdb\\\\data.mdb', readonly=True)\n",
    "\n",
    "# 데이터베이스에서 데이터 읽기\n",
    "with env.begin() as txn:\n",
    "    cursor = txn.cursor()\n",
    "    for key, value in cursor:\n",
    "        print(key, value)\n",
    "\n",
    "# 환경 닫기\n",
    "env.close()"
   ]
  },
  {
   "cell_type": "code",
   "execution_count": null,
   "metadata": {},
   "outputs": [],
   "source": []
  }
 ],
 "metadata": {
  "kernelspec": {
   "display_name": "ocr",
   "language": "python",
   "name": "python3"
  },
  "language_info": {
   "codemirror_mode": {
    "name": "ipython",
    "version": 3
   },
   "file_extension": ".py",
   "mimetype": "text/x-python",
   "name": "python",
   "nbconvert_exporter": "python",
   "pygments_lexer": "ipython3",
   "version": "3.8.19"
  }
 },
 "nbformat": 4,
 "nbformat_minor": 2
}
